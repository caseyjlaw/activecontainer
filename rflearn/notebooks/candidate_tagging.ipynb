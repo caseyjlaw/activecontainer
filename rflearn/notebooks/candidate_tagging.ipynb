{
 "cells": [
  {
   "cell_type": "markdown",
   "metadata": {},
   "source": [
    "# Candidate tagging front end\n",
    "## Quick way to add string to candidate for filtering"
   ]
  },
  {
   "cell_type": "code",
   "execution_count": null,
   "metadata": {
    "collapsed": false
   },
   "outputs": [],
   "source": [
    "import rflearn.elastic\n",
    "import os.path\n",
    "from numpy import argsort\n",
    "from IPython.display import Image, display\n",
    "from ipywidgets import Text"
   ]
  },
  {
   "cell_type": "code",
   "execution_count": null,
   "metadata": {
    "collapsed": false
   },
   "outputs": [],
   "source": [
    "# core functions\n",
    "\n",
    "def serveimage(imagename, baseurl='http://www.aoc.nrao.edu/~claw/plots/', width=700):\n",
    "    display(Image(url=os.path.join(baseurl, imagename), width=width))\n",
    "    \n",
    "def gettag(tag):\n",
    "    return tag\n",
    "\n",
    "def tagloop(datalist, order):\n",
    "    \"\"\" Generator for tagged data. order is result of argsort on some candidate property \"\"\"\n",
    "    \n",
    "    for candi in order:\n",
    "        data = datalist[candi]\n",
    "        serveimage(data['candidate_png'])\n",
    "        print('Current tag: {0}'.format(data['tag']))\n",
    "\n",
    "# tried to get widget to work, but they don't work well in loop\n",
    "#        tag = Text(value=data['tag'])\n",
    "#        hndl = display(tag)\n",
    "#        more = raw_input(\"Any key to continue...\")\n",
    "#        data['tag'] = tag.value\n",
    "\n",
    "        tag = raw_input(\"Set new tag list (or enter to keep old tag):\")\n",
    "        if tag:\n",
    "            data['tag'] = tag\n",
    "            print('New tag: {0}'.format(data['tag']))\n",
    "\n",
    "        yield data"
   ]
  },
  {
   "cell_type": "code",
   "execution_count": null,
   "metadata": {
    "collapsed": false
   },
   "outputs": [],
   "source": [
    "# read from elastic\n",
    "datalist = rflearn.elastic.indextodatalist()\n",
    "\n",
    "# optionally filter datalist here...\n",
    "datalist = [data for data in datalist if not data['tag']]"
   ]
  },
  {
   "cell_type": "code",
   "execution_count": null,
   "metadata": {
    "collapsed": false,
    "scrolled": false
   },
   "outputs": [],
   "source": [
    "# define iteration order\n",
    "snr = [data['snr1'] for data in datalist]\n",
    "rbscore = [data['rbscore'] for data in datalist]\n",
    "\n",
    "# run tagging loop\n",
    "loop = tagloop(datalist, argsort(snr)[::-1])\n",
    "datalist2 = []\n",
    "while True:\n",
    "    try:\n",
    "        data = loop.next()\n",
    "        datalist2.append(data)\n",
    "    except KeyboardInterrupt:\n",
    "        print('Exiting loop..')\n",
    "        break\n",
    "        \n",
    "rflearn.elastic.pushdata(datalist2)"
   ]
  },
  {
   "cell_type": "code",
   "execution_count": null,
   "metadata": {
    "collapsed": true
   },
   "outputs": [],
   "source": []
  }
 ],
 "metadata": {
  "kernelspec": {
   "display_name": "python2",
   "language": "python",
   "name": "python2"
  },
  "language_info": {
   "codemirror_mode": {
    "name": "ipython",
    "version": 2
   },
   "file_extension": ".py",
   "mimetype": "text/x-python",
   "name": "python",
   "nbconvert_exporter": "python",
   "pygments_lexer": "ipython2",
   "version": "2.7.11"
  }
 },
 "nbformat": 4,
 "nbformat_minor": 0
}
